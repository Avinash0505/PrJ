{
 "cells": [
  {
   "cell_type": "markdown",
   "id": "845dffe9",
   "metadata": {},
   "source": [
    "# Data Science Tools and Ecosystem"
   ]
  },
  {
   "cell_type": "markdown",
   "id": "63ef31ae",
   "metadata": {},
   "source": [
    "### In this notebook, Data Science Tools and Ecosystem are summarized."
   ]
  },
  {
   "cell_type": "markdown",
   "id": "3b3ebd5c",
   "metadata": {},
   "source": [
    "Some of the popular languages that Data Scientists use are:\n",
    "\n",
    "1) Python\n",
    "2) SQL\n",
    "3) Ruby\n",
    "4) Java"
   ]
  },
  {
   "cell_type": "markdown",
   "id": "fb554ef7",
   "metadata": {},
   "source": [
    "Some of the commonly used libraries used by Data Scientists include:\n",
    "\n",
    "1) Tensorflow\n",
    "2) Pandas\n",
    "3) Scipy\n",
    "4) Pandas"
   ]
  },
  {
   "cell_type": "code",
   "execution_count": 5,
   "id": "c4523265",
   "metadata": {},
   "outputs": [],
   "source": [
    "import pandas as pd\n"
   ]
  },
  {
   "cell_type": "code",
   "execution_count": 9,
   "id": "883e12fc",
   "metadata": {},
   "outputs": [
    {
     "name": "stdout",
     "output_type": "stream",
     "text": [
      "  Data Science Tools\n",
      "0           Anaconda\n",
      "1            Jupyter\n",
      "2            Pycharm\n",
      "3            VS Code\n"
     ]
    }
   ],
   "source": [
    "data={'Data Science Tools': ['Anaconda','Jupyter','Pycharm','VS Code']}\n",
    "df=pd.DataFrame(data)\n",
    "print(df)"
   ]
  },
  {
   "cell_type": "markdown",
   "id": "6b84bb49",
   "metadata": {},
   "source": [
    "### Below are a few examples of evaluating arithmetic expressions in Python"
   ]
  },
  {
   "cell_type": "code",
   "execution_count": 1,
   "id": "13a5337a",
   "metadata": {},
   "outputs": [
    {
     "name": "stdout",
     "output_type": "stream",
     "text": [
      "17\n"
     ]
    }
   ],
   "source": [
    "#This a simple arithmetic expression to mutiply then add integers \n",
    "print((3*4)+5)"
   ]
  },
  {
   "cell_type": "code",
   "execution_count": 2,
   "id": "f818a73a",
   "metadata": {},
   "outputs": [
    {
     "name": "stdout",
     "output_type": "stream",
     "text": [
      "3.3333333333333335\n"
     ]
    }
   ],
   "source": [
    "#This will convert 200 minutes to hours by diving by 60\n",
    "min=200\n",
    "hour=200/60\n",
    "print(hour)"
   ]
  },
  {
   "cell_type": "markdown",
   "id": "4b021f61",
   "metadata": {},
   "source": [
    "**Objectives**\n"
   ]
  },
  {
   "cell_type": "markdown",
   "id": "731f0543",
   "metadata": {},
   "source": [
    "* java\n",
    "* python\n",
    "* sql\n",
    "* javascript"
   ]
  },
  {
   "cell_type": "markdown",
   "id": "8119bc85",
   "metadata": {},
   "source": [
    "## Author"
   ]
  },
  {
   "cell_type": "markdown",
   "id": "bd3ff424",
   "metadata": {},
   "source": [
    "Avinash Yadav"
   ]
  },
  {
   "cell_type": "code",
   "execution_count": null,
   "id": "2bf94e21",
   "metadata": {},
   "outputs": [],
   "source": []
  }
 ],
 "metadata": {
  "kernelspec": {
   "display_name": "Python 3 (ipykernel)",
   "language": "python",
   "name": "python3"
  },
  "language_info": {
   "codemirror_mode": {
    "name": "ipython",
    "version": 3
   },
   "file_extension": ".py",
   "mimetype": "text/x-python",
   "name": "python",
   "nbconvert_exporter": "python",
   "pygments_lexer": "ipython3",
   "version": "3.10.9"
  }
 },
 "nbformat": 4,
 "nbformat_minor": 5
}
